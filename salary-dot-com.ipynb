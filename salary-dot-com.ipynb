{
 "cells": [
  {
   "cell_type": "markdown",
   "metadata": {},
   "source": [
    "# Salary.com\n",
    "extract salary information for a data scientist job in the 317 largest us cities"
   ]
  },
  {
   "cell_type": "code",
   "execution_count": 73,
   "metadata": {},
   "outputs": [],
   "source": [
    "import csv\n",
    "import json\n",
    "import requests\n",
    "from bs4 import BeautifulSoup"
   ]
  },
  {
   "cell_type": "code",
   "execution_count": 87,
   "metadata": {},
   "outputs": [],
   "source": [
    "template = 'https://www.salary.com/research/salary/listing/data-scientist-salary/{}'"
   ]
  },
  {
   "cell_type": "code",
   "execution_count": 85,
   "metadata": {},
   "outputs": [],
   "source": [
    "# get list of largest us cities\n",
    "with open('largest_cities.csv', 'r', newline='', encoding='utf-8') as f:\n",
    "    reader = csv.reader(f)\n",
    "    city_list = []\n",
    "    for city in reader:\n",
    "        city_list.extend(city)\n",
    "        \n",
    "city_list = [city.replace(' ', '-') for city in city_list]"
   ]
  },
  {
   "cell_type": "code",
   "execution_count": 88,
   "metadata": {},
   "outputs": [],
   "source": [
    "def extract_page_data(html_text):\n",
    "    \"\"\"Extract all job data from raw html\"\"\"\n",
    "    soup = BeautifulSoup(response.text, 'lxml')\n",
    "    script = soup.find_all('script', {'type': 'application/ld+json'})[1]\n",
    "    json_data = json.loads(script.contents[0])\n",
    "    \n",
    "    # job details\n",
    "    title = json_data.get('name')\n",
    "    location = json_data.get('occupationLocation')[0]['name']\n",
    "    responsibilities = json_data.get('responsibilities')\n",
    "    \n",
    "    # salary\n",
    "    base_salary = json_data.get('estimatedSalary')[0] # base\n",
    "    ntile10 = base_salary.get('percentile10')\n",
    "    ntile25 = base_salary.get('percentile25')\n",
    "    ntile50 = base_salary.get('median')\n",
    "    ntile75 = base_salary.get('percentile75')\n",
    "    ntile90 = base_salary.get('percentile90')\n",
    "    \n",
    "    record = {\n",
    "        'title': title,\n",
    "        'location': location,\n",
    "        'responsibilities': responsibilities,\n",
    "        'ntile10': ntile10,\n",
    "        'ntile25': ntile25,\n",
    "        'ntile50': ntile50,\n",
    "        'ntile75': ntile75,\n",
    "        'ntile90': ntile90\n",
    "    }\n",
    "    return record"
   ]
  },
  {
   "cell_type": "code",
   "execution_count": 97,
   "metadata": {},
   "outputs": [],
   "source": [
    "records = []\n",
    "\n",
    "for city in city_list[316:]:\n",
    "    url = template.format(city)\n",
    "    response = requests.get(url)\n",
    "    if response.reason == 'OK':\n",
    "        record = extract_page_data(response.text)\n",
    "        if record:\n",
    "            records.append(record)\n",
    "    else:\n",
    "        continue"
   ]
  },
  {
   "cell_type": "code",
   "execution_count": 105,
   "metadata": {},
   "outputs": [],
   "source": [
    "fieldnames = list(records[0].keys())\n",
    "\n",
    "with open('data-scientist-salary.csv', 'w', newline='', encoding='utf-8') as f:\n",
    "    writer = csv.DictWriter(f, fieldnames=fieldnames)\n",
    "    writer.writeheader()\n",
    "    writer.writerows(records)"
   ]
  },
  {
   "cell_type": "code",
   "execution_count": 106,
   "metadata": {},
   "outputs": [
    {
     "data": {
      "text/plain": [
       "{'title': 'Data Scientist',\n",
       " 'location': 'New York, NY',\n",
       " 'responsibilities': 'Create data tools for analytics and data scientist team members that assist them in building and optimizing our product into an innovative industry leader.',\n",
       " 'ntile10': '123501',\n",
       " 'ntile25': '138561',\n",
       " 'ntile50': '155102',\n",
       " 'ntile75': '171349',\n",
       " 'ntile90': '186141'}"
      ]
     },
     "execution_count": 106,
     "metadata": {},
     "output_type": "execute_result"
    }
   ],
   "source": [
    "records[0]"
   ]
  }
 ],
 "metadata": {
  "kernelspec": {
   "display_name": "Python 3",
   "language": "python",
   "name": "python3"
  },
  "language_info": {
   "codemirror_mode": {
    "name": "ipython",
    "version": 3
   },
   "file_extension": ".py",
   "mimetype": "text/x-python",
   "name": "python",
   "nbconvert_exporter": "python",
   "pygments_lexer": "ipython3",
   "version": "3.8.3"
  }
 },
 "nbformat": 4,
 "nbformat_minor": 4
}
