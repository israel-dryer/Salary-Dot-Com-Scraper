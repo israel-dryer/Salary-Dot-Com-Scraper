{
 "cells": [
  {
   "cell_type": "markdown",
   "metadata": {},
   "source": [
    "# Salary.com\n",
    "extract salary information for specific job titles in the 317 largest us cities"
   ]
  },
  {
   "cell_type": "code",
   "execution_count": 73,
   "metadata": {},
   "outputs": [],
   "source": [
    "import csv\n",
    "from time import sleep\n",
    "import json\n",
    "import requests\n",
    "from bs4 import BeautifulSoup"
   ]
  },
  {
   "cell_type": "code",
   "execution_count": 4,
   "metadata": {},
   "outputs": [],
   "source": [
    "def extract_salary_info(job_title, job_city):\n",
    "    \"\"\"Extract and return salary information\"\"\"\n",
    "    template = 'https://www.salary.com/research/salary/alternate/{}-salary/{}'\n",
    " \n",
    "    # build the url based on search criteria\n",
    "    url = template.format(job_title, job_city)\n",
    "\n",
    "    # request the raw html .. check for valid request\n",
    "    try:\n",
    "        response = requests.get(url)\n",
    "        if response.status_code != 200:\n",
    "            return None\n",
    "    except requests.exceptions.ConnectionError:\n",
    "        return None\n",
    "   \n",
    "    # parse the html and extract json data\n",
    "    soup = BeautifulSoup(response.text, 'html.parser')\n",
    "    scripts = soup.find_all('script', {'type': 'application/ld+json'})\n",
    "    json_raw = scripts[1].contents[0]\n",
    "    json_data = json.loads(json_raw)\n",
    "\n",
    "    # extract salary data\n",
    "    job_title = json_data['name']\n",
    "    location = json_data['occupationLocation'][0]['name']\n",
    "    description = json_data['description']\n",
    "\n",
    "    ntile_10 = json_data['estimatedSalary'][0]['percentile10']\n",
    "    ntile_25 = json_data['estimatedSalary'][0]['percentile25']\n",
    "    ntile_50 = json_data['estimatedSalary'][0]['median']\n",
    "    ntile_75 = json_data['estimatedSalary'][0]['percentile75']\n",
    "    ntile_90 = json_data['estimatedSalary'][0]['percentile90']\n",
    "\n",
    "    data = (job_title, location, description, ntile_10, ntile_25, ntile_50, ntile_75, ntile_90)\n",
    "    return data\n",
    "\n",
    "\n",
    "def main(job_title):\n",
    "    \"\"\"Extract salary data from top us cities\"\"\"\n",
    "    \n",
    "    # get the list of largest us cities\n",
    "    with open('largest_cities.csv', newline='') as f:\n",
    "        reader = csv.reader(f)\n",
    "        # a reader typically returns each row as a list... so I need to flatten the list to make a single list\n",
    "        cities = [city for row in reader for city in row]\n",
    "        \n",
    "    # extract salary data for each city\n",
    "    salary_data = []\n",
    "    for city in cities:\n",
    "        result = extract_salary_info(job_title, city)\n",
    "        if result:\n",
    "            salary_data.append(result)\n",
    "            sleep(0.5)\n",
    "            \n",
    "    # save data to csv file\n",
    "    with open('salary-results.csv', 'w', newline='', encoding='utf-8') as f:\n",
    "        writer = csv.writer(f)\n",
    "        writer.writerow(['Title','Location', 'Description', 'nTile10', 'nTile25', 'nTile50', 'nTile75', 'nTile90'])\n",
    "        writer.writerows(salary_data)\n",
    "        \n",
    "    return salary_data"
   ]
  },
  {
   "cell_type": "code",
   "execution_count": null,
   "metadata": {},
   "outputs": [],
   "source": [
    "# run main program\n",
    "results = main('senior-accountant')"
   ]
  }
 ],
 "metadata": {
  "kernelspec": {
   "display_name": "Python 3",
   "language": "python",
   "name": "python3"
  },
  "language_info": {
   "codemirror_mode": {
    "name": "ipython",
    "version": 3
   },
   "file_extension": ".py",
   "mimetype": "text/x-python",
   "name": "python",
   "nbconvert_exporter": "python",
   "pygments_lexer": "ipython3",
   "version": "3.8.3"
  }
 },
 "nbformat": 4,
 "nbformat_minor": 4
}
